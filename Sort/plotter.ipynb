{
 "cells": [
  {
   "cell_type": "code",
   "execution_count": null,
   "metadata": {},
   "outputs": [],
   "source": [
    "import pandas as pd\n",
    "import matplotlib.pyplot as plt\n",
    "\n",
    "plt.xlabel('N')\n",
    "plt.ylabel('time, s')\n",
    "\n",
    "res = pd.read_csv('out/1.csv')\n",
    "res_best = pd.read_csv('out/1_best.csv')\n",
    "\n",
    "plt.plot(res['N'], res['t'], label = 'avg')\n",
    "plt.plot(res['N'], res_best['t'], label = 'best')\n",
    "\n",
    "plt.legend()\n",
    "plt.show()\n"
   ]
  },
  {
   "cell_type": "code",
   "execution_count": null,
   "metadata": {},
   "outputs": [],
   "source": [
    "plt.xscale('log')\n",
    "plt.xlabel('N')\n",
    "plt.ylabel('boost')\n",
    "res1 = pd.read_csv('out/1.csv')\n",
    "\n",
    "for i in {2, 4, 8}:\n",
    "    res = pd.read_csv('out/{}.csv'.format(i))\n",
    "    plt.plot(res['N'], res1['t'] / res['t'], label = '{} cores'.format(i))\n",
    "\n",
    "plt.legend()\n",
    "plt.show()"
   ]
  },
  {
   "cell_type": "code",
   "execution_count": null,
   "metadata": {},
   "outputs": [],
   "source": [
    "plt.xscale('log')\n",
    "plt.xlabel('N')\n",
    "plt.ylabel('efficency')\n",
    "res1 = pd.read_csv('out/1.csv')\n",
    "\n",
    "for i in {2, 4, 8}:\n",
    "    res = pd.read_csv('out/{}.csv'.format(i))\n",
    "    plt.plot(res['N'], res1['t'] / (res['t'] * i), label = '{} cores'.format(i))\n",
    "\n",
    "plt.legend()\n",
    "plt.show()"
   ]
  }
 ],
 "metadata": {
  "kernelspec": {
   "display_name": "Python 3",
   "language": "python",
   "name": "python3"
  },
  "language_info": {
   "codemirror_mode": {
    "name": "ipython",
    "version": 3
   },
   "file_extension": ".py",
   "mimetype": "text/x-python",
   "name": "python",
   "nbconvert_exporter": "python",
   "pygments_lexer": "ipython3",
   "version": "3.11.6"
  }
 },
 "nbformat": 4,
 "nbformat_minor": 2
}
