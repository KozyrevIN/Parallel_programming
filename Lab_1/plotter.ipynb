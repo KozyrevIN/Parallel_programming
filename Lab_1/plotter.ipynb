{
 "cells": [
  {
   "cell_type": "markdown",
   "metadata": {},
   "source": [
    "# Лабораторная работа "
   ]
  },
  {
   "cell_type": "markdown",
   "metadata": {},
   "source": [
    "## 1. Оценим теоретически ускорение и эффективность реализации"
   ]
  },
  {
   "cell_type": "markdown",
   "metadata": {},
   "source": [
    "$\\tau_{sr} = 0.153165 \\cdot 10^{-6}$ c. --- измерена вручную.\n",
    "\n",
    "$t_{1, n, k} = C \\cdot n \\cdot k$ --- время выполнения программы на 1 процессоре для n шагов по пространству и k шагов по времени.\n",
    "\n",
    "$C = 0.644843 \\cdot 10^{-8}$ c. --- измерена вручную.\n",
    "\n",
    "Оценим максимальное ускорение для выполнения программы на p процессорах:\n",
    "\n",
    "$$\n",
    "t_{p,n,k} = (C \\frac{n}{p} + 2\\tau_{sr})k\n",
    "$$\n",
    "\n",
    "$$\n",
    "S_{p,n,k} = \\frac{t_{1, n, k}}{t_{p,n,k}} = \\frac{C n}{C n + 2p\\tau_{sr}}p\n",
    "$$\n",
    "\n",
    "Эффективность:\n",
    "\n",
    "$$\n",
    "E_{p, n, k} = \\frac{S_{p,n,k}}{p} = \\frac{C n}{C n + 2p\\tau_{sr}}\n",
    "$$"
   ]
  },
  {
   "cell_type": "markdown",
   "metadata": {},
   "source": [
    "## 2. Экспериментально получим ускорение для различных p, n, k"
   ]
  },
  {
   "cell_type": "code",
   "execution_count": null,
   "metadata": {},
   "outputs": [],
   "source": [
    "import numpy as np \n",
    "import matplotlib.pyplot as plt \n",
    "import pandas as pd \n",
    "\n",
    "for i in range(1, 8):\n",
    "        data_i = pd.read_csv('out/times/{}.csv'.format(i))\n",
    "        plt.plot(data_i['n'], data_i['t'])\n",
    "\n",
    "\n",
    "\n"
   ]
  },
  {
   "cell_type": "code",
   "execution_count": null,
   "metadata": {},
   "outputs": [],
   "source": [
    "t = 0.153165e-6\n",
    "C = 0.644843e-8\n",
    "\n",
    "fig, (ax_1, ax_2) = plt.subplots(1, 2, sharey=True)\n",
    "\n",
    "data_1 = pd.read_csv('out/times/1.csv')\n",
    "for i in range(2, 9):\n",
    "    data_i = pd.read_csv('out/times/{}.csv'.format(i))\n",
    "    ax_1.plot(data_i['n'], data_1['t'] / data_i['t'])\n",
    "\n",
    "for i in range(2, 9):\n",
    "    ax_2.plot(data_1['n'], C * i * data_1['n'] / (C * data_1['n'] + 2 * i * t)) "
   ]
  },
  {
   "cell_type": "code",
   "execution_count": null,
   "metadata": {},
   "outputs": [],
   "source": [
    "t = 0.153165e-6\n",
    "C = 0.644843e-8\n",
    "\n",
    "fig, (ax_1, ax_2) = plt.subplots(1, 2, sharey=True)\n",
    "\n",
    "data_1 = pd.read_csv('out/times/1.csv')\n",
    "for i in range(2, 9):\n",
    "    data_i = pd.read_csv('out/times/{}.csv'.format(i))\n",
    "    ax_1.plot(data_i['n'], data_1['t'] / (i * data_i['t']))\n",
    "\n",
    "for i in range(2, 9):\n",
    "    ax_2.plot(data_1['n'], C * data_1['n'] / (C * data_1['n'] + 2 * i * t)) "
   ]
  }
 ],
 "metadata": {
  "kernelspec": {
   "display_name": "Python 3",
   "language": "python",
   "name": "python3"
  },
  "language_info": {
   "codemirror_mode": {
    "name": "ipython",
    "version": 3
   },
   "file_extension": ".py",
   "mimetype": "text/x-python",
   "name": "python",
   "nbconvert_exporter": "python",
   "pygments_lexer": "ipython3",
   "version": "3.11.6"
  }
 },
 "nbformat": 4,
 "nbformat_minor": 2
}
